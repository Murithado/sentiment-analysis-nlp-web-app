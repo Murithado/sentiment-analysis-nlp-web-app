{
  "cells": [
    {
      "cell_type": "code",
      "execution_count": null,
      "metadata": {
        "id": "TpYb--jui7_V"
      },
      "outputs": [],
      "source": []
    },
    {
      "cell_type": "code",
      "execution_count": null,
      "metadata": {
        "colab": {
          "base_uri": "https://localhost:8080/"
        },
        "id": "frFSl5OkSzE0",
        "outputId": "d7470972-d21c-445f-bf07-ea4d5d1523e0"
      },
      "outputs": [
        {
          "data": {
            "text/plain": [
              "538"
            ]
          },
          "execution_count": 2,
          "metadata": {},
          "output_type": "execute_result"
        }
      ],
      "source": [
        "import os\n",
        "import pandas as pd\n",
        "import numpy as np\n",
        "\n",
        "emo_data = pd.read_csv('/content/sentiment-analysis-data.csv')\n",
        "\n",
        "np.max(emo_data['content'].apply(len))"
      ]
    },
    {
      "cell_type": "code",
      "execution_count": null,
      "metadata": {
        "id": "kiVehltcV2EE"
      },
      "outputs": [],
      "source": [
        "validation_split = 0.2\n",
        "train_idxs = []\n",
        "test_idxs = []\n",
        "\n",
        "for name, idxs in emo_data.groupby('sentiment').groups.items():\n",
        "  idxs = idxs.to_list()\n",
        "  np.random.shuffle(idxs)\n",
        "  idx_split = int(validation_split * len(idxs))\n",
        "  train_idxs += idxs[idx_split:]\n",
        "  test_idxs += idxs[:idx_split]\n",
        "\n",
        "np.random.shuffle(train_idxs)\n",
        "np.random.shuffle(test_idxs)\n",
        "train_samples = emo_data.iloc[train_idxs]\n",
        "test_samples = emo_data.iloc[test_idxs]"
      ]
    },
    {
      "cell_type": "code",
      "execution_count": null,
      "metadata": {
        "colab": {
          "base_uri": "https://localhost:8080/",
          "height": 269
        },
        "id": "gHM-wDzwfXNk",
        "outputId": "14176f6f-4d19-4a4f-ce41-bf7433bd2def"
      },
      "outputs": [
        {
          "data": {
            "text/html": [
              "\n",
              "  <div id=\"df-772138ed-0235-4575-91f9-67cc60ae28d2\">\n",
              "    <div class=\"colab-df-container\">\n",
              "      <div>\n",
              "<style scoped>\n",
              "    .dataframe tbody tr th:only-of-type {\n",
              "        vertical-align: middle;\n",
              "    }\n",
              "\n",
              "    .dataframe tbody tr th {\n",
              "        vertical-align: top;\n",
              "    }\n",
              "\n",
              "    .dataframe thead th {\n",
              "        text-align: right;\n",
              "    }\n",
              "</style>\n",
              "<table border=\"1\" class=\"dataframe\">\n",
              "  <thead>\n",
              "    <tr style=\"text-align: right;\">\n",
              "      <th></th>\n",
              "      <th>content</th>\n",
              "    </tr>\n",
              "    <tr>\n",
              "      <th>sentiment</th>\n",
              "      <th></th>\n",
              "    </tr>\n",
              "  </thead>\n",
              "  <tbody>\n",
              "    <tr>\n",
              "      <th>anger</th>\n",
              "      <td>8902</td>\n",
              "    </tr>\n",
              "    <tr>\n",
              "      <th>disgust</th>\n",
              "      <td>811</td>\n",
              "    </tr>\n",
              "    <tr>\n",
              "      <th>fear</th>\n",
              "      <td>2619</td>\n",
              "    </tr>\n",
              "    <tr>\n",
              "      <th>joy</th>\n",
              "      <td>23962</td>\n",
              "    </tr>\n",
              "    <tr>\n",
              "      <th>sadness</th>\n",
              "      <td>11892</td>\n",
              "    </tr>\n",
              "    <tr>\n",
              "      <th>surprise</th>\n",
              "      <td>7650</td>\n",
              "    </tr>\n",
              "  </tbody>\n",
              "</table>\n",
              "</div>\n",
              "      <button class=\"colab-df-convert\" onclick=\"convertToInteractive('df-772138ed-0235-4575-91f9-67cc60ae28d2')\"\n",
              "              title=\"Convert this dataframe to an interactive table.\"\n",
              "              style=\"display:none;\">\n",
              "        \n",
              "  <svg xmlns=\"http://www.w3.org/2000/svg\" height=\"24px\"viewBox=\"0 0 24 24\"\n",
              "       width=\"24px\">\n",
              "    <path d=\"M0 0h24v24H0V0z\" fill=\"none\"/>\n",
              "    <path d=\"M18.56 5.44l.94 2.06.94-2.06 2.06-.94-2.06-.94-.94-2.06-.94 2.06-2.06.94zm-11 1L8.5 8.5l.94-2.06 2.06-.94-2.06-.94L8.5 2.5l-.94 2.06-2.06.94zm10 10l.94 2.06.94-2.06 2.06-.94-2.06-.94-.94-2.06-.94 2.06-2.06.94z\"/><path d=\"M17.41 7.96l-1.37-1.37c-.4-.4-.92-.59-1.43-.59-.52 0-1.04.2-1.43.59L10.3 9.45l-7.72 7.72c-.78.78-.78 2.05 0 2.83L4 21.41c.39.39.9.59 1.41.59.51 0 1.02-.2 1.41-.59l7.78-7.78 2.81-2.81c.8-.78.8-2.07 0-2.86zM5.41 20L4 18.59l7.72-7.72 1.47 1.35L5.41 20z\"/>\n",
              "  </svg>\n",
              "      </button>\n",
              "      \n",
              "  <style>\n",
              "    .colab-df-container {\n",
              "      display:flex;\n",
              "      flex-wrap:wrap;\n",
              "      gap: 12px;\n",
              "    }\n",
              "\n",
              "    .colab-df-convert {\n",
              "      background-color: #E8F0FE;\n",
              "      border: none;\n",
              "      border-radius: 50%;\n",
              "      cursor: pointer;\n",
              "      display: none;\n",
              "      fill: #1967D2;\n",
              "      height: 32px;\n",
              "      padding: 0 0 0 0;\n",
              "      width: 32px;\n",
              "    }\n",
              "\n",
              "    .colab-df-convert:hover {\n",
              "      background-color: #E2EBFA;\n",
              "      box-shadow: 0px 1px 2px rgba(60, 64, 67, 0.3), 0px 1px 3px 1px rgba(60, 64, 67, 0.15);\n",
              "      fill: #174EA6;\n",
              "    }\n",
              "\n",
              "    [theme=dark] .colab-df-convert {\n",
              "      background-color: #3B4455;\n",
              "      fill: #D2E3FC;\n",
              "    }\n",
              "\n",
              "    [theme=dark] .colab-df-convert:hover {\n",
              "      background-color: #434B5C;\n",
              "      box-shadow: 0px 1px 3px 1px rgba(0, 0, 0, 0.15);\n",
              "      filter: drop-shadow(0px 1px 2px rgba(0, 0, 0, 0.3));\n",
              "      fill: #FFFFFF;\n",
              "    }\n",
              "  </style>\n",
              "\n",
              "      <script>\n",
              "        const buttonEl =\n",
              "          document.querySelector('#df-772138ed-0235-4575-91f9-67cc60ae28d2 button.colab-df-convert');\n",
              "        buttonEl.style.display =\n",
              "          google.colab.kernel.accessAllowed ? 'block' : 'none';\n",
              "\n",
              "        async function convertToInteractive(key) {\n",
              "          const element = document.querySelector('#df-772138ed-0235-4575-91f9-67cc60ae28d2');\n",
              "          const dataTable =\n",
              "            await google.colab.kernel.invokeFunction('convertToInteractive',\n",
              "                                                     [key], {});\n",
              "          if (!dataTable) return;\n",
              "\n",
              "          const docLinkHtml = 'Like what you see? Visit the ' +\n",
              "            '<a target=\"_blank\" href=https://colab.research.google.com/notebooks/data_table.ipynb>data table notebook</a>'\n",
              "            + ' to learn more about interactive tables.';\n",
              "          element.innerHTML = '';\n",
              "          dataTable['output_type'] = 'display_data';\n",
              "          await google.colab.output.renderOutput(dataTable, element);\n",
              "          const docLink = document.createElement('div');\n",
              "          docLink.innerHTML = docLinkHtml;\n",
              "          element.appendChild(docLink);\n",
              "        }\n",
              "      </script>\n",
              "    </div>\n",
              "  </div>\n",
              "  "
            ],
            "text/plain": [
              "           content\n",
              "sentiment         \n",
              "anger         8902\n",
              "disgust        811\n",
              "fear          2619\n",
              "joy          23962\n",
              "sadness      11892\n",
              "surprise      7650"
            ]
          },
          "execution_count": 4,
          "metadata": {},
          "output_type": "execute_result"
        }
      ],
      "source": [
        "train_samples.groupby('sentiment').count()"
      ]
    },
    {
      "cell_type": "code",
      "execution_count": null,
      "metadata": {
        "colab": {
          "base_uri": "https://localhost:8080/",
          "height": 331
        },
        "id": "PjY8Xs8Aei2w",
        "outputId": "e71e90ea-bdde-420a-c970-af7bbe59a084"
      },
      "outputs": [
        {
          "data": {
            "text/plain": [
              "<matplotlib.axes._subplots.AxesSubplot at 0x7fe0a0059410>"
            ]
          },
          "execution_count": 5,
          "metadata": {},
          "output_type": "execute_result"
        },
        {
          "data": {
            "image/png": "[encoded data removed]",
            "text/plain": [
              "<Figure size 432x288 with 1 Axes>"
            ]
          },
          "metadata": {
            "needs_background": "light"
          },
          "output_type": "display_data"
        }
      ],
      "source": [
        "train_samples.groupby('sentiment').count().plot(kind='bar')"
      ]
    },
    {
      "cell_type": "code",
      "execution_count": null,
      "metadata": {
        "colab": {
          "base_uri": "https://localhost:8080/",
          "height": 328
        },
        "id": "ZUpzhpQ8dkRE",
        "outputId": "b5755a53-9a59-4d80-c19a-9806e2ff0c61"
      },
      "outputs": [
        {
          "data": {
            "text/plain": [
              "<matplotlib.axes._subplots.AxesSubplot at 0x7fe09ff45290>"
            ]
          },
          "execution_count": 6,
          "metadata": {},
          "output_type": "execute_result"
        },
        {
          "data": {
            "image/png": "[encoded data removed]",
            "text/plain": [
              "<Figure size 432x288 with 1 Axes>"
            ]
          },
          "metadata": {
            "needs_background": "light"
          },
          "output_type": "display_data"
        }
      ],
      "source": [
        "#split the data evenly among the trainng and test sets although the data is highly severely imbalanced\n",
        "test_samples.groupby('sentiment').count().plot(kind='bar')"
      ]
    },
    {
      "cell_type": "code",
      "execution_count": null,
      "metadata": {
        "id": "o6hUbYoreHFO"
      },
      "outputs": [],
      "source": [
        "emotion_dict = {'anger':0, 'disgust':1, 'fear':2, 'joy':3, 'sadness':4, 'surprise':5}"
      ]
    },
    {
      "cell_type": "code",
      "execution_count": null,
      "metadata": {
        "id": "y_qO7Q-rlCQu"
      },
      "outputs": [],
      "source": []
    },
    {
      "cell_type": "code",
      "execution_count": null,
      "metadata": {
        "colab": {
          "base_uri": "https://localhost:8080/"
        },
        "id": "tlTQ04vJdh19",
        "outputId": "53a7b017-ea72-4071-e107-fc0a2ec9a5fa"
      },
      "outputs": [
        {
          "name": "stderr",
          "output_type": "stream",
          "text": [
            "/usr/local/lib/python3.7/dist-packages/ipykernel_launcher.py:1: SettingWithCopyWarning: \n",
            "A value is trying to be set on a copy of a slice from a DataFrame.\n",
            "Try using .loc[row_indexer,col_indexer] = value instead\n",
            "\n",
            "See the caveats in the documentation: https://pandas.pydata.org/pandas-docs/stable/user_guide/indexing.html#returning-a-view-versus-a-copy\n",
            "  \"\"\"Entry point for launching an IPython kernel.\n",
            "/usr/local/lib/python3.7/dist-packages/ipykernel_launcher.py:3: SettingWithCopyWarning: \n",
            "A value is trying to be set on a copy of a slice from a DataFrame.\n",
            "Try using .loc[row_indexer,col_indexer] = value instead\n",
            "\n",
            "See the caveats in the documentation: https://pandas.pydata.org/pandas-docs/stable/user_guide/indexing.html#returning-a-view-versus-a-copy\n",
            "  This is separate from the ipykernel package so we can avoid doing imports until\n"
          ]
        }
      ],
      "source": [
        "train_samples['sentiment'] = train_samples['sentiment'].apply(lambda x: emotion_dict[x])\n",
        "\n",
        "test_samples['sentiment'] = test_samples['sentiment'].apply(lambda x: emotion_dict[x])"
      ]
    },
    {
      "cell_type": "code",
      "execution_count": null,
      "metadata": {
        "id": "W8Ftob3olpSW"
      },
      "outputs": [],
      "source": []
    },
    {
      "cell_type": "code",
      "execution_count": null,
      "metadata": {
        "id": "siba4LHnjFq5"
      },
      "outputs": [],
      "source": [
        "train_samples, train_labels = train_samples.values[:,1], train_samples.values[:,0]\n",
        "\n",
        "test_samples, test_labels = test_samples.values[:,1], test_samples.values[:,0]"
      ]
    },
    {
      "cell_type": "code",
      "execution_count": null,
      "metadata": {
        "id": "LyN578BTg_lQ"
      },
      "outputs": [],
      "source": []
    },
    {
      "cell_type": "code",
      "execution_count": null,
      "metadata": {
        "colab": {
          "base_uri": "https://localhost:8080/",
          "height": 279
        },
        "id": "6CzylMJyUrU_",
        "outputId": "edaf19f3-3032-4d72-f28f-7bf609f28dc9"
      },
      "outputs": [
        {
          "data": {
            "image/png": "[encoded data removed]",
            "text/plain": [
              "<Figure size 432x288 with 1 Axes>"
            ]
          },
          "metadata": {
            "needs_background": "light"
          },
          "output_type": "display_data"
        }
      ],
      "source": [
        "import matplotlib.pyplot as plt\n",
        "sentence_lengths = (emo_data['content'].apply(len) // 100) + 1\n",
        "\n",
        "sentence_lengths.hist()\n",
        "plt.xlabel(\"sentence length in '00s\");\n",
        "plt.ylabel('frequency');"
      ]
    },
    {
      "cell_type": "code",
      "execution_count": null,
      "metadata": {
        "id": "XzoKoAWqhvEx"
      },
      "outputs": [],
      "source": [
        "import tensorflow as tf\n",
        "from tensorflow import keras"
      ]
    },
    {
      "cell_type": "code",
      "execution_count": null,
      "metadata": {
        "id": "D9HWCGBdgOp6"
      },
      "outputs": [],
      "source": [
        "train_labels = keras.utils.to_categorical(train_labels, 6)\n",
        "test_labels = keras.utils.to_categorical(test_labels, 6)"
      ]
    },
    {
      "cell_type": "code",
      "execution_count": null,
      "metadata": {
        "id": "Wj6z5drw4Taz"
      },
      "outputs": [],
      "source": [
        "#from the figure above keeping a max output_sequence_length of 200 is more than sufficient\n",
        "from tensorflow.keras.layers import TextVectorization\n",
        "\n",
        "vectorizer = TextVectorization(max_tokens=20000, output_sequence_length=200)\n",
        "\n",
        "text_ds = tf.data.Dataset.from_tensor_slices(train_samples).batch(128)\n",
        "vectorizer.adapt(text_ds)"
      ]
    },
    {
      "cell_type": "code",
      "execution_count": null,
      "metadata": {
        "colab": {
          "base_uri": "https://localhost:8080/"
        },
        "id": "NGDdrjA2auNa",
        "outputId": "868a196e-ab4e-4985-87a0-911fc879c936"
      },
      "outputs": [
        {
          "data": {
            "text/plain": [
              "{'anger': 0, 'disgust': 1, 'fear': 2, 'joy': 3, 'sadness': 4, 'surprise': 5}"
            ]
          },
          "execution_count": 14,
          "metadata": {},
          "output_type": "execute_result"
        }
      ],
      "source": [
        "emotion_dict"
      ]
    },
    {
      "cell_type": "code",
      "execution_count": null,
      "metadata": {
        "id": "NlaPzX1Q3s7P"
      },
      "outputs": [],
      "source": [
        "reverse_emotion_dict = {}"
      ]
    },
    {
      "cell_type": "code",
      "execution_count": null,
      "metadata": {
        "id": "DNnYlNs43jnF"
      },
      "outputs": [],
      "source": [
        "for key, val in emotion_dict.items():\n",
        "  reverse_emotion_dict[val] = key"
      ]
    },
    {
      "cell_type": "code",
      "execution_count": null,
      "metadata": {
        "id": "h5AFXf31_sbM"
      },
      "outputs": [],
      "source": []
    },
    {
      "cell_type": "code",
      "execution_count": null,
      "metadata": {
        "colab": {
          "base_uri": "https://localhost:8080/"
        },
        "id": "s_cEGRvr_sMr",
        "outputId": "21a47b04-3607-4c0a-9398-bdb97d811cba"
      },
      "outputs": [
        {
          "name": "stdout",
          "output_type": "stream",
          "text": [
            "--2022-07-04 14:00:22--  http://nlp.stanford.edu/data/glove.6B.zip\n",
            "Resolving nlp.stanford.edu (nlp.stanford.edu)... 171.64.67.140\n",
            "Connecting to nlp.stanford.edu (nlp.stanford.edu)|171.64.67.140|:80... connected.\n",
            "HTTP request sent, awaiting response... 302 Found\n",
            "Location: https://nlp.stanford.edu/data/glove.6B.zip [following]\n",
            "--2022-07-04 14:00:22--  https://nlp.stanford.edu/data/glove.6B.zip\n",
            "Connecting to nlp.stanford.edu (nlp.stanford.edu)|171.64.67.140|:443... connected.\n",
            "HTTP request sent, awaiting response... 301 Moved Permanently\n",
            "Location: https://downloads.cs.stanford.edu/nlp/data/glove.6B.zip [following]\n",
            "--2022-07-04 14:00:22--  https://downloads.cs.stanford.edu/nlp/data/glove.6B.zip\n",
            "Resolving downloads.cs.stanford.edu (downloads.cs.stanford.edu)... 171.64.64.22\n",
            "Connecting to downloads.cs.stanford.edu (downloads.cs.stanford.edu)|171.64.64.22|:443... connected.\n",
            "HTTP request sent, awaiting response... 200 OK\n",
            "Length: 862182613 (822M) [application/zip]\n",
            "Saving to: ‘glove.6B.zip’\n",
            "\n",
            "glove.6B.zip        100%[===================>] 822.24M  5.08MB/s    in 2m 39s  \n",
            "\n",
            "2022-07-04 14:03:01 (5.17 MB/s) - ‘glove.6B.zip’ saved [862182613/862182613]\n",
            "\n"
          ]
        }
      ],
      "source": [
        "!wget http://nlp.stanford.edu/data/glove.6B.zip\n",
        "!unzip -q glove.6B.zip"
      ]
    },
    {
      "cell_type": "code",
      "execution_count": null,
      "metadata": {
        "id": "Lg5aln9Yu7M5"
      },
      "outputs": [],
      "source": []
    },
    {
      "cell_type": "code",
      "execution_count": null,
      "metadata": {
        "colab": {
          "base_uri": "https://localhost:8080/"
        },
        "id": "asC92NVuSZbI",
        "outputId": "f37aa733-8306-4c9f-f276-e9df5c9852b2"
      },
      "outputs": [
        {
          "name": "stdout",
          "output_type": "stream",
          "text": [
            "Found 400000 word vectors.\n"
          ]
        }
      ],
      "source": [
        "import os\n",
        "\n",
        "embeddings_index = {}\n",
        "\n",
        "with open('/content/glove.6B.100d.txt') as f:\n",
        "  for line in f:\n",
        "    word, coeffs = line.split(maxsplit=1)\n",
        "    coeffs = np.fromstring(coeffs, 'f', sep=' ')\n",
        "    embeddings_index[word] = coeffs\n",
        "\n",
        "print('Found %s word vectors.' % len(embeddings_index))"
      ]
    },
    {
      "cell_type": "code",
      "execution_count": null,
      "metadata": {
        "id": "iJoAI-olu4Am"
      },
      "outputs": [],
      "source": [
        "vocab = vectorizer.get_vocabulary()\n",
        "\n",
        "word_index = dict(zip(vocab, range(len(vocab))))"
      ]
    },
    {
      "cell_type": "code",
      "execution_count": null,
      "metadata": {
        "colab": {
          "base_uri": "https://localhost:8080/"
        },
        "id": "qAYHfZtDvOzX",
        "outputId": "d3c9deec-f819-420a-8dca-f847fab7420f"
      },
      "outputs": [],
      "source": [
        "num_tokens = len(vocab) + 2\n",
        "embedding_dim = 100\n",
        "hits = 0\n",
        "misses = 0\n",
        "\n",
        "embedding_matrix = np.zeros((num_tokens, embedding_dim))\n",
        "for word, i in word_index.items():\n",
        "  embedding_vector = embeddings_index.get(word)\n",
        "  if embedding_vector is not None:\n",
        "    embedding_matrix[i] = embedding_vector\n",
        "    hits += 1\n",
        "  else:\n",
        "    misses += 1\n",
        "\n",
        "print('Converted %s words and %s misses' % (hits, misses))"
      ]
    },
    {
      "cell_type": "code",
      "execution_count": null,
      "metadata": {
        "id": "yjay2HM6v_nf"
      },
      "outputs": [],
      "source": [
        "from tensorflow.keras.layers import Embedding\n",
        "\n",
        "embedding_layer = Embedding(num_tokens,\n",
        "                            embedding_dim,\n",
        "                            embeddings_initializer=keras.initializers.Constant(embedding_matrix),\n",
        "                            trainable=False)"
      ]
    },
    {
      "cell_type": "code",
      "execution_count": null,
      "metadata": {
        "colab": {
          "base_uri": "https://localhost:8080/"
        },
        "id": "Ubrvgi6p1R1K",
        "outputId": "30a78cc5-0afc-447e-c481-c68f48ecef5a"
      },
      "outputs": [
        {
          "name": "stdout",
          "output_type": "stream",
          "text": [
            "Model: \"model\"\n",
            "__________________________________________________________________________________________________\n",
            " Layer (type)                   Output Shape         Param #     Connected to                     \n",
            "==================================================================================================\n",
            " input_1 (InputLayer)           [(None, None)]       0           []                               \n",
            "                                                                                                  \n",
            " embedding (Embedding)          (None, None, 100)    1000200     ['input_1[0][0]']                \n",
            "                                                                                                  \n",
            " spatial_dropout1d (SpatialDrop  (None, None, 100)   0           ['embedding[0][0]']              \n",
            " out1D)                                                                                           \n",
            "                                                                                                  \n",
            " bidirectional (Bidirectional)  (None, None, 512)    731136      ['spatial_dropout1d[0][0]']      \n",
            "                                                                                                  \n",
            " conv1d (Conv1D)                (None, None, 64)     98368       ['bidirectional[0][0]']          \n",
            "                                                                                                  \n",
            " global_max_pooling1d (GlobalMa  (None, 64)          0           ['conv1d[0][0]']                 \n",
            " xPooling1D)                                                                                      \n",
            "                                                                                                  \n",
            " global_average_pooling1d (Glob  (None, 64)          0           ['conv1d[0][0]']                 \n",
            " alAveragePooling1D)                                                                              \n",
            "                                                                                                  \n",
            " concatenate (Concatenate)      (None, 128)          0           ['global_max_pooling1d[0][0]',   \n",
            "                                                                  'global_average_pooling1d[0][0]'\n",
            "                                                                 ]                                \n",
            "                                                                                                  \n",
            " dense (Dense)                  (None, 6)            774         ['concatenate[0][0]']            \n",
            "                                                                                                  \n",
            "==================================================================================================\n",
            "Total params: 1,830,478\n",
            "Trainable params: 830,278\n",
            "Non-trainable params: 1,000,200\n",
            "__________________________________________________________________________________________________\n"
          ]
        }
      ],
      "source": [
        "input_sequences = keras.Input(shape=(None,), dtype='int32')\n",
        "embedded_sequences = embedding_layer(input_sequences)\n",
        "x = keras.layers.SpatialDropout1D(0.3)(embedded_sequences)\n",
        "x = keras.layers.Bidirectional(keras.layers.LSTM(256, return_sequences=True))(x)\n",
        "x = keras.layers.Conv1D(64, 3, activation='relu')(x)\n",
        "x1 = keras.layers.GlobalMaxPooling1D()(x)\n",
        "x2 = keras.layers.GlobalAveragePooling1D()(x)\n",
        "x = keras.layers.Concatenate(axis=1)([x1, x2])\n",
        "preds = keras.layers.Dense(6, activation='softmax')(x)\n",
        "\n",
        "model = keras.Model(inputs=input_sequences, outputs=preds)\n",
        "model.summary()"
      ]
    },
    {
      "cell_type": "code",
      "execution_count": null,
      "metadata": {
        "id": "yy8DlUD_3PLa"
      },
      "outputs": [],
      "source": [
        "model.compile(optimizer=keras.optimizers.Adam(learning_rate=0.0005), loss='categorical_crossentropy',  metrics=['acc'])"
      ]
    },
    {
      "cell_type": "code",
      "execution_count": null,
      "metadata": {
        "id": "6aC_rQ4Mvq-B"
      },
      "outputs": [],
      "source": [
        "x_train = vectorizer(train_samples)\n",
        "x_test = vectorizer(test_samples)"
      ]
    },
    {
      "cell_type": "code",
      "execution_count": null,
      "metadata": {
        "id": "_Fo7VRvHl3lw"
      },
      "outputs": [],
      "source": []
    },
    {
      "cell_type": "code",
      "execution_count": null,
      "metadata": {
        "colab": {
          "base_uri": "https://localhost:8080/"
        },
        "id": "1kEt39V8gMft",
        "outputId": "78f6f3fd-3fa9-4f2c-b247-a55e27b28eb3"
      },
      "outputs": [
        {
          "name": "stdout",
          "output_type": "stream",
          "text": [
            "Epoch 1/15\n",
            "394/394 [==============================] - 31s 71ms/step - loss: 1.1602 - acc: 0.5547 - val_loss: 0.9228 - val_acc: 0.6526\n",
            "Epoch 2/15\n",
            "394/394 [==============================] - 27s 68ms/step - loss: 0.9093 - acc: 0.6540 - val_loss: 0.7816 - val_acc: 0.7109\n",
            "Epoch 3/15\n",
            "394/394 [==============================] - 26s 67ms/step - loss: 0.8121 - acc: 0.6944 - val_loss: 0.7205 - val_acc: 0.7290\n",
            "Epoch 4/15\n",
            "394/394 [==============================] - 27s 67ms/step - loss: 0.7504 - acc: 0.7189 - val_loss: 0.6818 - val_acc: 0.7486\n",
            "Epoch 5/15\n",
            "394/394 [==============================] - 27s 68ms/step - loss: 0.7033 - acc: 0.7366 - val_loss: 0.6653 - val_acc: 0.7527\n",
            "Epoch 6/15\n",
            "394/394 [==============================] - 27s 68ms/step - loss: 0.6677 - acc: 0.7514 - val_loss: 0.6425 - val_acc: 0.7614\n",
            "Epoch 7/15\n",
            "394/394 [==============================] - 27s 68ms/step - loss: 0.6377 - acc: 0.7620 - val_loss: 0.6389 - val_acc: 0.7667\n",
            "Epoch 8/15\n",
            "394/394 [==============================] - 27s 68ms/step - loss: 0.6141 - acc: 0.7717 - val_loss: 0.6480 - val_acc: 0.7631\n",
            "Epoch 9/15\n",
            "394/394 [==============================] - 27s 68ms/step - loss: 0.5834 - acc: 0.7827 - val_loss: 0.6259 - val_acc: 0.7715\n",
            "Epoch 10/15\n",
            "394/394 [==============================] - 27s 68ms/step - loss: 0.5572 - acc: 0.7932 - val_loss: 0.6381 - val_acc: 0.7701\n",
            "Epoch 11/15\n",
            "394/394 [==============================] - 27s 68ms/step - loss: 0.5367 - acc: 0.8012 - val_loss: 0.6585 - val_acc: 0.7684\n",
            "Epoch 12/15\n",
            "394/394 [==============================] - 27s 68ms/step - loss: 0.5120 - acc: 0.8123 - val_loss: 0.6412 - val_acc: 0.7739\n",
            "Epoch 13/15\n",
            "394/394 [==============================] - 27s 68ms/step - loss: 0.4882 - acc: 0.8182 - val_loss: 0.6665 - val_acc: 0.7713\n",
            "Epoch 14/15\n",
            "394/394 [==============================] - 27s 68ms/step - loss: 0.4681 - acc: 0.8245 - val_loss: 0.6734 - val_acc: 0.7700\n",
            "Epoch 15/15\n",
            "394/394 [==============================] - 27s 68ms/step - loss: 0.4681 - acc: 0.8279 - val_loss: 0.6803 - val_acc: 0.7637\n"
          ]
        }
      ],
      "source": [
        "model_history = model.fit(x_train, train_labels, batch_size=128, epochs=15, validation_data=(x_test, test_labels))"
      ]
    },
    {
      "cell_type": "code",
      "execution_count": null,
      "metadata": {
        "id": "-J8MtOwsXlFl"
      },
      "outputs": [],
      "source": [
        "import matplotlib.pyplot as plt\n",
        "\n",
        "def plot_graph(model_history, metric):\n",
        "  epochs = len(model_history.history[metric])\n",
        "  plt.plot(range(epochs),model_history.history[metric])\n",
        "  plt.plot(range(epochs),model_history.history['val_'+metric])\n",
        "  plt.xlabel('epochs')\n",
        "  plt.ylabel(metric)\n",
        "  plt.legend([metric, 'val_'+metric])\n",
        "  plt.figure()\n",
        "\n",
        "plot_graph(model_history, 'acc')\n",
        "plot_graph(model_history, 'loss')"
      ]
    },
    {
      "cell_type": "code",
      "execution_count": null,
      "metadata": {
        "colab": {
          "base_uri": "https://localhost:8080/",
          "height": 36
        },
        "id": "Ct7_G2KIdOcf",
        "outputId": "7f518404-d99c-4684-8da3-20152b371d51"
      },
      "outputs": [
        {
          "data": {
            "application/vnd.google.colaboratory.intrinsic+json": {
              "type": "string"
            },
            "text/plain": [
              "'joy'"
            ]
          },
          "execution_count": 139,
          "metadata": {},
          "output_type": "execute_result"
        }
      ],
      "source": [
        "#There's an obvious bias in my algorithm towards not, perhaps in a future development this will be attended to\n",
        "reverse_emotion_dict[np.argmax(model.predict(vectorizer([\"I feel happy\"])))]"
      ]
    },
    {
      "cell_type": "code",
      "execution_count": null,
      "metadata": {
        "colab": {
          "base_uri": "https://localhost:8080/",
          "height": 36
        },
        "id": "H-w7UUgrXo9A",
        "outputId": "1f17dbf1-9e59-4aed-b45c-9da275cc1e6d"
      },
      "outputs": [
        {
          "data": {
            "application/vnd.google.colaboratory.intrinsic+json": {
              "type": "string"
            },
            "text/plain": [
              "'sadness'"
            ]
          },
          "execution_count": 189,
          "metadata": {},
          "output_type": "execute_result"
        }
      ],
      "source": [
        "reverse_emotion_dict[np.argmax(model.predict(test_vec([\"I do not feel pain below the belt\"])))]\n"
      ]
    },
    {
      "cell_type": "code",
      "execution_count": null,
      "metadata": {
        "colab": {
          "base_uri": "https://localhost:8080/"
        },
        "id": "cKf1GkgBtZvt",
        "outputId": "0d380e8e-dfe7-47d8-8d7e-afbbdbe9c6c4"
      },
      "outputs": [
        {
          "name": "stderr",
          "output_type": "stream",
          "text": [
            "WARNING:absl:Found untraced functions such as lstm_cell_46_layer_call_fn, lstm_cell_46_layer_call_and_return_conditional_losses, lstm_cell_47_layer_call_fn, lstm_cell_47_layer_call_and_return_conditional_losses while saving (showing 4 of 4). These functions will not be directly callable after loading.\n"
          ]
        },
        {
          "name": "stdout",
          "output_type": "stream",
          "text": [
            "INFO:tensorflow:Assets written to: /model/my_model/assets\n"
          ]
        },
        {
          "name": "stderr",
          "output_type": "stream",
          "text": [
            "INFO:tensorflow:Assets written to: /model/my_model/assets\n",
            "WARNING:absl:<keras.layers.recurrent.LSTMCell object at 0x7f2f1718be90> has the same name 'LSTMCell' as a built-in Keras object. Consider renaming <class 'keras.layers.recurrent.LSTMCell'> to avoid naming conflicts when loading with `tf.keras.models.load_model`. If renaming is not possible, pass the object in the `custom_objects` parameter of the load function.\n",
            "WARNING:absl:<keras.layers.recurrent.LSTMCell object at 0x7f2f172a6c10> has the same name 'LSTMCell' as a built-in Keras object. Consider renaming <class 'keras.layers.recurrent.LSTMCell'> to avoid naming conflicts when loading with `tf.keras.models.load_model`. If renaming is not possible, pass the object in the `custom_objects` parameter of the load function.\n"
          ]
        }
      ],
      "source": [
        "#model.save('/content/model/my_model')"
      ]
    },
    {
      "cell_type": "code",
      "execution_count": null,
      "metadata": {
        "id": "D5S7xcmyp_EF"
      },
      "outputs": [],
      "source": [
        "model.save('/content/model/my_model.h5')"
      ]
    },
    {
      "cell_type": "code",
      "execution_count": null,
      "metadata": {
        "id": "yLqxlFrQvPzk"
      },
      "outputs": [],
      "source": [
        "old_model = keras.models.load_model('/content/model/my_model.h5')"
      ]
    },
    {
      "cell_type": "code",
      "execution_count": null,
      "metadata": {
        "id": "A1AghtgwtZe2"
      },
      "outputs": [],
      "source": [
        "import pickle as pkl"
      ]
    },
    {
      "cell_type": "code",
      "execution_count": null,
      "metadata": {
        "id": "7nwyQ9ZMuR_t"
      },
      "outputs": [],
      "source": [
        "with open('/content/vectorizer_file/vectorizer.pkl','wb') as f:\n",
        "  pkl.dump({'config':vectorizer.get_config(), 'weights':vectorizer.get_weights()}, f)"
      ]
    },
    {
      "cell_type": "code",
      "execution_count": null,
      "metadata": {
        "id": "0kaovxmn0z3j"
      },
      "outputs": [],
      "source": [
        "with open('/content/vectorizer_file/vectorizer.pkl','rb') as f:\n",
        "  test_dict = pkl.load(f)\n"
      ]
    },
    {
      "cell_type": "code",
      "execution_count": null,
      "metadata": {
        "id": "CvjcqmzTwEma"
      },
      "outputs": [],
      "source": [
        "test_vec = TextVectorization.from_config(test_dict['config'])\n",
        "\n",
        "test_vec.set_weights(test_dict['weights'])"
      ]
    },
    {
      "cell_type": "code",
      "execution_count": null,
      "metadata": {
        "id": "D6ywg3mv312e"
      },
      "outputs": [],
      "source": []
    },
    {
      "cell_type": "code",
      "execution_count": null,
      "metadata": {
        "id": "SNnepEMtayA0"
      },
      "outputs": [],
      "source": [
        "prediction = model.predict(vectorizer(['I am not feeling bad']))"
      ]
    },
    {
      "cell_type": "code",
      "execution_count": null,
      "metadata": {
        "id": "cW31Z8m23ZMB"
      },
      "outputs": [],
      "source": []
    }
  ],
  "metadata": {
    "accelerator": "GPU",
    "colab": {
      "collapsed_sections": [],
      "name": "Model for Sentiment Analysis.ipynb",
      "provenance": []
    },
    "gpuClass": "standard",
    "kernelspec": {
      "display_name": "Python 3",
      "name": "python3"
    },
    "language_info": {
      "name": "python"
    }
  },
  "nbformat": 4,
  "nbformat_minor": 0
}
